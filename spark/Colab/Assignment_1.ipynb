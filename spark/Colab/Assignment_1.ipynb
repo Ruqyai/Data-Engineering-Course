{
  "nbformat": 4,
  "nbformat_minor": 0,
  "metadata": {
    "colab": {
      "provenance": [],
      "include_colab_link": true
    },
    "kernelspec": {
      "name": "python3",
      "display_name": "Python 3"
    },
    "language_info": {
      "name": "python"
    }
  },
  "cells": [
    {
      "cell_type": "markdown",
      "metadata": {
        "id": "view-in-github",
        "colab_type": "text"
      },
      "source": [
        "<a href=\"https://colab.research.google.com/github/wojodd/Tuwaiq_Academy/blob/main/spark/Colab/Assignment_1.ipynb\" target=\"_parent\"><img src=\"https://colab.research.google.com/assets/colab-badge.svg\" alt=\"Open In Colab\"/></a>"
      ]
    },
    {
      "cell_type": "markdown",
      "source": [
        "# Academy: Data Engineering: Assignment 1"
      ],
      "metadata": {
        "id": "RVXHSib5O4_j"
      }
    },
    {
      "cell_type": "code",
      "execution_count": 4,
      "metadata": {
        "colab": {
          "base_uri": "https://localhost:8080/"
        },
        "id": "zfjhA-U0GDXW",
        "outputId": "52fc6ae9-2de1-444e-8e8e-49c9aff70166"
      },
      "outputs": [
        {
          "output_type": "stream",
          "name": "stdout",
          "text": [
            "\u001b[K     |████████████████████████████████| 281.3 MB 41 kB/s \n",
            "\u001b[K     |████████████████████████████████| 1.4 MB 13.0 MB/s \n",
            "\u001b[K     |████████████████████████████████| 199 kB 47.3 MB/s \n",
            "\u001b[K     |████████████████████████████████| 51 kB 6.0 MB/s \n",
            "\u001b[K     |████████████████████████████████| 11.2 MB 41.1 MB/s \n",
            "\u001b[K     |████████████████████████████████| 45 kB 2.7 MB/s \n",
            "\u001b[K     |████████████████████████████████| 4.0 MB 42.9 MB/s \n",
            "\u001b[K     |████████████████████████████████| 960 kB 58.6 MB/s \n",
            "\u001b[?25h  Building wheel for pyspark (setup.py) ... \u001b[?25l\u001b[?25hdone\n",
            "  Building wheel for ligo-segments (setup.py) ... \u001b[?25l\u001b[?25hdone\n"
          ]
        }
      ],
      "source": [
        "!pip install pyspark -q gwpy"
      ]
    },
    {
      "cell_type": "code",
      "source": [
        "import pyspark\n",
        "from pyspark.sql import SparkSession, Column\n",
        "from pyspark.sql.functions import upper\n",
        "\n",
        "spark = SparkSession.builder.getOrCreate()\n"
      ],
      "metadata": {
        "id": "-x8OFE_JGoNH"
      },
      "execution_count": 5,
      "outputs": []
    },
    {
      "cell_type": "code",
      "source": [
        "%%capture\n",
        "!wget https://raw.githubusercontent.com/Ruqyai/Course-DS/ef2eb5cfef26c7b3f1f17c334b6e0ccc02c47a2d/math-raw.csv"
      ],
      "metadata": {
        "id": "pETPL5H9Hc3T"
      },
      "execution_count": 6,
      "outputs": []
    },
    {
      "cell_type": "code",
      "source": [
        "!ls"
      ],
      "metadata": {
        "colab": {
          "base_uri": "https://localhost:8080/"
        },
        "id": "Dcc3uZB2NXrE",
        "outputId": "5960a7aa-0477-4ed7-f419-347f21adf9c2"
      },
      "execution_count": 7,
      "outputs": [
        {
          "output_type": "stream",
          "name": "stdout",
          "text": [
            "math-raw.csv  sample_data\n"
          ]
        }
      ]
    },
    {
      "cell_type": "markdown",
      "source": [
        "###Creat spark datafream using the csv file"
      ],
      "metadata": {
        "id": "h8967KXdNgxp"
      }
    },
    {
      "cell_type": "code",
      "source": [
        "spdf = spark.read.format(\"csv\").option(\"header\",\"true\").load(\"/content/math-raw.csv\")\n",
        "spdf.show(5)"
      ],
      "metadata": {
        "id": "x55Xxax0On0s",
        "outputId": "dd0f4ff7-7e4f-4200-f08c-c1d786b4b8a0",
        "colab": {
          "base_uri": "https://localhost:8080/"
        }
      },
      "execution_count": 8,
      "outputs": [
        {
          "output_type": "stream",
          "name": "stdout",
          "text": [
            "+------+------+---+-------+-------+-------+----+----+-------+--------+------+--------+----------+---------+--------+---------+------+----+----------+-------+------+--------+--------+------+--------+-----+----+----+------+--------+---+---+---+\n",
            "|school|   sex|age|address|famsize|Pstatus|Medu|Fedu|   Mjob|    Fjob|reason|guardian|traveltime|studytime|failures|schoolsup|famsup|paid|activities|nursery|higher|internet|romantic|famrel|freetime|goout|Dalc|Walc|health|absences| G1| G2| G3|\n",
            "+------+------+---+-------+-------+-------+----+----+-------+--------+------+--------+----------+---------+--------+---------+------+----+----------+-------+------+--------+--------+------+--------+-----+----+----+------+--------+---+---+---+\n",
            "|    GP|     F| 18|      U|    GT3|      A|   4|   4|at_home| teacher|course|  mother|         2|        2|    null|      yes|    no|  no|        no|    yes|   yes|      no|      no|     4|       ?|    4|   1|   1|     3|     NaN|  5|  6|  6|\n",
            "|    GP|     F| 17|      U|    GT3|      T|   1|   1|at_home|   other|course|  father|         1|        2|    null|       no|   yes|  no|        no|     no|   yes|     yes|      no|     5|       ?|    3|   1|   1|     3|     NaN|  5|  5|  6|\n",
            "|    GP|Female| 15|      U|    LE3|      T|   1|   1|at_home|   other| other|  mother|         1|        2|       3|      yes|    no| yes|        no|    yes|   yes|     yes|      no|     4|       3|    2|   2|   3|     3|      10|  7|  8| 10|\n",
            "|    GP|     F| 15|      U|    GT3|      T|   4|   2| health|services|  home|  mother|         1|        3|       0|       no|   yes| yes|       yes|    yes|   yes|     yes|     yes|     3|       2|    2|   1|   1|     5|       2| 15| 14| 15|\n",
            "|    GP|     F| 16|      U|    GT3|      T|   3|   3|  other|   other|  home|  father|         1|        2|       0|       no|   yes| yes|        no|    yes|   yes|      no|      no|     4|       3|    2|   1|   2|     5|       4|  6| 10| 10|\n",
            "+------+------+---+-------+-------+-------+----+----+-------+--------+------+--------+----------+---------+--------+---------+------+----+----------+-------+------+--------+--------+------+--------+-----+----+----+------+--------+---+---+---+\n",
            "only showing top 5 rows\n",
            "\n"
          ]
        }
      ]
    },
    {
      "cell_type": "code",
      "source": [
        "#@title proposed solution\n",
        "#spdf = spark.read.format(\"csv\").option(\"header\",\"true\").load(\"/content/math-raw.csv\")\n",
        "#spdf.show(5)"
      ],
      "metadata": {
        "id": "9t_4y6qQGpb8"
      },
      "execution_count": 9,
      "outputs": []
    },
    {
      "cell_type": "markdown",
      "source": [
        "### Select on column"
      ],
      "metadata": {
        "id": "1ZX4MsA2L5_9"
      }
    },
    {
      "cell_type": "code",
      "source": [
        "spdf.select(spdf.age).show()"
      ],
      "metadata": {
        "id": "uM8q3kG3HXL_",
        "outputId": "f2be1015-d480-4ce4-af9d-3643b1d71d31",
        "colab": {
          "base_uri": "https://localhost:8080/"
        }
      },
      "execution_count": 12,
      "outputs": [
        {
          "output_type": "stream",
          "name": "stdout",
          "text": [
            "+----+\n",
            "| age|\n",
            "+----+\n",
            "|  18|\n",
            "|  17|\n",
            "|  15|\n",
            "|  15|\n",
            "|  16|\n",
            "|  16|\n",
            "|  16|\n",
            "|null|\n",
            "|  15|\n",
            "|  15|\n",
            "|  15|\n",
            "|  15|\n",
            "|  15|\n",
            "|  15|\n",
            "|  15|\n",
            "|  16|\n",
            "|  16|\n",
            "|  16|\n",
            "|  17|\n",
            "|  16|\n",
            "+----+\n",
            "only showing top 20 rows\n",
            "\n"
          ]
        }
      ]
    },
    {
      "cell_type": "markdown",
      "source": [
        "### Filter father job to show teachers"
      ],
      "metadata": {
        "id": "xaNP86VjMeMV"
      }
    },
    {
      "cell_type": "code",
      "source": [
        "spdf.filter(spdf.Fjob==\"teacher\").show()"
      ],
      "metadata": {
        "id": "L_magNLxM0wp",
        "outputId": "da4da764-1433-46ed-d06b-71d3412b363f",
        "colab": {
          "base_uri": "https://localhost:8080/"
        }
      },
      "execution_count": 20,
      "outputs": [
        {
          "output_type": "stream",
          "name": "stdout",
          "text": [
            "+------+----+----+-------+-------+-------+----+----+--------+-------+----------+--------+----------+---------+--------+---------+------+----+----------+-------+------+--------+--------+------+--------+-----+----+----+------+--------+---+---+---+\n",
            "|school| sex| age|address|famsize|Pstatus|Medu|Fedu|    Mjob|   Fjob|    reason|guardian|traveltime|studytime|failures|schoolsup|famsup|paid|activities|nursery|higher|internet|romantic|famrel|freetime|goout|Dalc|Walc|health|absences| G1| G2| G3|\n",
            "+------+----+----+-------+-------+-------+----+----+--------+-------+----------+--------+----------+---------+--------+---------+------+----+----------+-------+------+--------+--------+------+--------+-----+----+----+------+--------+---+---+---+\n",
            "|    GP|   F|  18|      U|    GT3|      A|   4|   4| at_home|teacher|    course|  mother|         2|        2|    null|      yes|    no|  no|        no|    yes|   yes|      no|      no|     4|       ?|    4|   1|   1|     3|     NaN|  5|  6|  6|\n",
            "|  null|null|null|   null|    GT3|      A|   4|   4|   other|teacher|      home|  mother|         2|        2|       0|      yes|   yes|  no|        no|    yes|   yes|      no|      no|     4|       1|    4|   1|   1|     1|       6|  6|  5|  6|\n",
            "|    GP|   M|  16|      U|    GT3|      T|   4|   4| teacher|teacher|      home|  mother|         1|        2|       0|       no|   yes| yes|       yes|    yes|   yes|     yes|     yes|     4|       4|    5|   5|   5|     5|      16| 10| 12| 11|\n",
            "|    GP|   M|  16|      R|    GT3|      A|   4|   4|   other|teacher|reputation|  mother|         2|        3|       0|       no|   yes|  no|       yes|    yes|   yes|     yes|     yes|     2|       4|    3|   1|   1|     5|       7| 15| 16| 15|\n",
            "|    GP|   M|  15|      U|    GT3|      T|   4|   4|services|teacher|    course|  father|         1|        2|       0|       no|   yes|  no|       yes|    yes|   yes|     yes|      no|     4|       3|    3|   1|   1|     5|       2| 19| 18| 18|\n",
            "|    GP|   F|  15|      U|    GT3|      T|   4|   4|services|teacher|     other|  father|         1|        2|       1|      yes|   yes|  no|       yes|     no|   yes|     yes|      no|     4|       4|    4|   1|   1|     3|       2|  7|  7|  7|\n",
            "|    GP|   F|  16|      R|    GT3|      T|   4|   4|  health|teacher|     other|  mother|         1|        2|       0|       no|   yes|  no|       yes|    yes|   yes|      no|      no|     2|       4|    4|   2|   3|     4|       6| 10| 11| 11|\n",
            "|    GP|   M|  16|      U|    GT3|      T|   4|   4|services|teacher|     other|  father|         1|        3|       0|       no|   yes|  no|       yes|    yes|   yes|     yes|     yes|     4|       4|    3|   1|   1|     4|       0| 16| 17| 17|\n",
            "|    GP|   M|  15|      U|    LE3|      A|   4|   4| teacher|teacher|    course|  mother|         1|        1|       0|       no|    no|  no|       yes|    yes|   yes|     yes|      no|     5|       5|    3|   1|   1|     4|       6| 18| 19| 19|\n",
            "|    GP|   M|  16|      U|    GT3|      T|   4|   4| teacher|teacher|    course|  father|         1|        2|       0|       no|   yes|  no|       yes|    yes|   yes|     yes|      no|     5|       4|    4|   1|   2|     5|       2| 15| 15| 16|\n",
            "|    GP|   M|  15|      U|    GT3|      T|   4|   4|   other|teacher|reputation|  father|         2|        2|       0|       no|   yes|  no|       yes|    yes|   yes|      no|      no|     4|       4|    3|   1|   1|     2|       2| 11| 13| 14|\n",
            "|    GP|   M|  16|      R|    GT3|      T|   4|   4| teacher|teacher|    course|  mother|         1|        1|       0|       no|    no| yes|       yes|    yes|   yes|     yes|      no|     3|       5|    5|   2|   5|     4|       8| 18| 18| 18|\n",
            "|    GP|   F|  15|      R|    GT3|      T|   3|   4|services|teacher|    course|  father|         2|        3|       2|       no|   yes|  no|        no|    yes|   yes|     yes|     yes|     4|       2|    2|   2|   2|     5|       0| 12|  0|  0|\n",
            "|    GP|   M|  15|      R|    GT3|      T|   3|   4| at_home|teacher|    course|  mother|         4|        2|       0|       no|   yes|  no|        no|    yes|   yes|      no|     yes|     5|       3|    3|   1|   1|     5|       0|  9|  0|  0|\n",
            "|    GP|   F|  15|      U|    GT3|      T|   4|   4| teacher|teacher|    course|  mother|         2|        1|       0|       no|    no|  no|       yes|    yes|   yes|     yes|      no|     4|       3|    2|   1|   1|     5|       0| 16| 16| 15|\n",
            "|    GP|   M|  16|      U|    GT3|      T|   4|   4| teacher|teacher|    course|  mother|         1|        1|       0|       no|   yes|  no|        no|    yes|    no|     yes|     yes|     3|       3|    2|   2|   1|     5|       0|  7|  6|  0|\n",
            "|    GP|   F|  17|      U|    GT3|      T|   4|   4|   other|teacher|    course|  mother|         1|        1|       0|      yes|   yes|  no|        no|    yes|   yes|      no|     yes|     4|       2|    1|   1|   1|     4|       0| 11| 11| 12|\n",
            "|    GP|   M|  17|      U|    GT3|      T|   4|   4|services|teacher|      home|  mother|         1|        1|       0|       no|    no|  no|        no|    yes|   yes|     yes|      no|     5|       2|    3|   1|   2|     5|       4| 17| 15| 16|\n",
            "|    GP|   F|  17|      U|    GT3|      T|   4|   4|services|teacher|      home|  mother|         2|        1|       1|       no|   yes|  no|        no|    yes|   yes|     yes|      no|     4|       2|    4|   2|   3|     2|      24| 18| 18| 18|\n",
            "|    GP|   F|  16|      U|    LE3|      T|   4|   4| teacher|teacher|reputation|  mother|         1|        2|       0|       no|   yes| yes|        no|    yes|   yes|     yes|      no|     4|       5|    2|   1|   2|     3|       0|  9|  9| 10|\n",
            "+------+----+----+-------+-------+-------+----+----+--------+-------+----------+--------+----------+---------+--------+---------+------+----+----------+-------+------+--------+--------+------+--------+-----+----+----+------+--------+---+---+---+\n",
            "only showing top 20 rows\n",
            "\n"
          ]
        }
      ]
    }
  ]
}