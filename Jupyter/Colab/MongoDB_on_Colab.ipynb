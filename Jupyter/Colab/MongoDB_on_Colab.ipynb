{
  "nbformat": 4,
  "nbformat_minor": 0,
  "metadata": {
    "colab": {
      "provenance": [],
      "collapsed_sections": [],
      "toc_visible": true,
      "include_colab_link": true
    },
    "kernelspec": {
      "name": "python3",
      "display_name": "Python 3"
    },
    "language_info": {
      "name": "python"
    }
  },
  "cells": [
    {
      "cell_type": "markdown",
      "metadata": {
        "id": "view-in-github",
        "colab_type": "text"
      },
      "source": [
        "<a href=\"https://colab.research.google.com/github/Ruqyai/Tuwaiq_Academy/blob/main/spark/Colab/MongoDB_on_Colab.ipynb\" target=\"_parent\"><img src=\"https://colab.research.google.com/assets/colab-badge.svg\" alt=\"Open In Colab\"/></a>"
      ]
    },
    {
      "cell_type": "markdown",
      "source": [
        "#Run MongoDB on Colab"
      ],
      "metadata": {
        "id": "ljEuF9NbeKRD"
      }
    },
    {
      "cell_type": "markdown",
      "metadata": {
        "id": "u4fPiXfdYevn"
      },
      "source": [
        "#Installs "
      ]
    },
    {
      "cell_type": "code",
      "metadata": {
        "id": "xggIFON1XxgF"
      },
      "source": [
        "from pymongo import MongoClient\n",
        "import pandas as pd\n",
        "import dateutil"
      ],
      "execution_count": 1,
      "outputs": []
    },
    {
      "cell_type": "code",
      "metadata": {
        "colab": {
          "base_uri": "https://localhost:8080/"
        },
        "id": "bv6pDRWUYodX",
        "outputId": "606f2d51-4a6d-4674-d334-19985c8ffc38"
      },
      "source": [
        "!apt install mongodb > /dev/null\n",
        " \n",
        "#Local Server Need Not be started for Remote Operations\n",
        "!service mongodb start"
      ],
      "execution_count": 2,
      "outputs": [
        {
          "output_type": "stream",
          "name": "stdout",
          "text": [
            "\n",
            "WARNING: apt does not have a stable CLI interface. Use with caution in scripts.\n",
            "\n",
            " * Starting database mongodb\n",
            "   ...done.\n"
          ]
        }
      ]
    },
    {
      "cell_type": "code",
      "metadata": {
        "colab": {
          "base_uri": "https://localhost:8080/"
        },
        "id": "YBZMGZMAY8i8",
        "outputId": "c63135ff-f7a4-45cd-feee-29faa32a302f"
      },
      "source": [
        "mongoURI = \"mongodb://localhost:27017/\"\n",
        "client = MongoClient(mongoURI)\n",
        "client.list_database_names() # ['admin', 'local']"
      ],
      "execution_count": 3,
      "outputs": [
        {
          "output_type": "execute_result",
          "data": {
            "text/plain": [
              "['admin', 'local']"
            ]
          },
          "metadata": {},
          "execution_count": 3
        }
      ]
    },
    {
      "cell_type": "markdown",
      "metadata": {
        "id": "MN79GhZSaQCD"
      },
      "source": [
        "# Create Database objects"
      ]
    },
    {
      "cell_type": "code",
      "metadata": {
        "colab": {
          "base_uri": "https://localhost:8080/"
        },
        "id": "cnI-oi8waWju",
        "outputId": "e09312e1-f4f9-4f92-8fd5-00286a4f72dc"
      },
      "source": [
        "# Database PraxisDB will be created only when we create collections, or documents in it\n",
        "mongoURI = \"mongodb://localhost:27017/\"\n",
        "client = MongoClient(mongoURI)\n",
        "client.list_database_names() "
      ],
      "execution_count": 4,
      "outputs": [
        {
          "output_type": "execute_result",
          "data": {
            "text/plain": [
              "['admin', 'local']"
            ]
          },
          "metadata": {},
          "execution_count": 4
        }
      ]
    },
    {
      "cell_type": "code",
      "metadata": {
        "colab": {
          "base_uri": "https://localhost:8080/"
        },
        "id": "1PkkdbCXa5_0",
        "outputId": "346c419a-ae83-4a0c-f4b8-33c8a1ffd12c"
      },
      "source": [
        "# Create a new collection. We can create the collection or leave to MongoDB to create it as soon as a document is generated.\n",
        "db = client.DataEngineer\n",
        "db.create_collection('Tuwaiq')       # Optional collection creation "
      ],
      "execution_count": 5,
      "outputs": [
        {
          "output_type": "execute_result",
          "data": {
            "text/plain": [
              "Collection(Database(MongoClient(host=['localhost:27017'], document_class=dict, tz_aware=False, connect=True), 'DataEngineer'), 'Tuwaiq')"
            ]
          },
          "metadata": {},
          "execution_count": 5
        }
      ]
    },
    {
      "cell_type": "code",
      "metadata": {
        "colab": {
          "base_uri": "https://localhost:8080/"
        },
        "id": "aFJuoBcBcvvf",
        "outputId": "6c875217-3fd1-40f7-a929-eb2ebf868a22"
      },
      "source": [
        "# Show Collections. Query returns a Cursor [ ] ,  list it to see the content\n",
        "list (db.list_collections())\n",
        "# empty list '[]' means that there are not collections in database"
      ],
      "execution_count": 6,
      "outputs": [
        {
          "output_type": "execute_result",
          "data": {
            "text/plain": [
              "[{'name': 'Tuwaiq',\n",
              "  'type': 'collection',\n",
              "  'options': {},\n",
              "  'info': {'readOnly': False,\n",
              "   'uuid': Binary(b'j\\x9ah\\x1bb\\xeaM\\x8d\\x8eV/\\x19\\x90\\xbb\\xa9\\x8d', 4)},\n",
              "  'idIndex': {'v': 2,\n",
              "   'key': {'_id': 1},\n",
              "   'name': '_id_',\n",
              "   'ns': 'DataEngineer.Tuwaiq'}}]"
            ]
          },
          "metadata": {},
          "execution_count": 6
        }
      ]
    },
    {
      "cell_type": "code",
      "metadata": {
        "colab": {
          "base_uri": "https://localhost:8080/"
        },
        "id": "1ek9pCUwdOAq",
        "outputId": "e8928271-f5fe-4b01-92f7-eaf7de81dcff"
      },
      "source": [
        "# Set the collection to work with\n",
        "kollection = db.Tuwaiq\n",
        "kollection.insert_one({'Tweet' : 'count'})     # Insert one item to create the collection\n",
        "list (kollection.find())                  # Show the existing collections"
      ],
      "execution_count": 7,
      "outputs": [
        {
          "output_type": "execute_result",
          "data": {
            "text/plain": [
              "[{'_id': ObjectId('633d4f27c4d33d21842962da'), 'Tweet': 'count'}]"
            ]
          },
          "metadata": {},
          "execution_count": 7
        }
      ]
    },
    {
      "cell_type": "code",
      "metadata": {
        "colab": {
          "base_uri": "https://localhost:8080/"
        },
        "id": "WEo7QOCHgPSd",
        "outputId": "96ba10f6-288d-43e7-a170-8ad925eaf1b4"
      },
      "source": [
        "client.list_database_names() "
      ],
      "execution_count": 8,
      "outputs": [
        {
          "output_type": "execute_result",
          "data": {
            "text/plain": [
              "['DataEngineer', 'admin', 'local']"
            ]
          },
          "metadata": {},
          "execution_count": 8
        }
      ]
    },
    {
      "cell_type": "markdown",
      "metadata": {
        "id": "XYb26s0ben-d"
      },
      "source": [
        "# Operations"
      ]
    },
    {
      "cell_type": "markdown",
      "metadata": {
        "id": "f6fmmd4-mD1Z"
      },
      "source": [
        "##  Insert Single Row"
      ]
    },
    {
      "cell_type": "code",
      "metadata": {
        "id": "WWzXPNecesiQ"
      },
      "source": [
        "cDoc1 = {  'tweet' : 'Tweet text ....' ,                             # String \n",
        "          'count' : '5',                                             # Integer     \n",
        "       }"
      ],
      "execution_count": 9,
      "outputs": []
    },
    {
      "cell_type": "code",
      "metadata": {
        "colab": {
          "base_uri": "https://localhost:8080/"
        },
        "id": "yivR6yuSgYNg",
        "outputId": "8d6a9d94-60ed-471b-de49-496b107b014e"
      },
      "source": [
        "# Define database, collection etc\n",
        "db = client.PraxisDB\n",
        "db.create_collection('Tuwaiq')       # Optional collection creation \n",
        "insert_result = db.Tuwaiq.insert_one( cDoc1)\n",
        "insert_result.acknowledged    # Confirms that insert is successful"
      ],
      "execution_count": 10,
      "outputs": [
        {
          "output_type": "execute_result",
          "data": {
            "text/plain": [
              "True"
            ]
          },
          "metadata": {},
          "execution_count": 10
        }
      ]
    },
    {
      "cell_type": "code",
      "metadata": {
        "colab": {
          "base_uri": "https://localhost:8080/"
        },
        "id": "I-HuwnBJhdTp",
        "outputId": "a2117c0f-51ff-4f48-994c-18d55063ac18"
      },
      "source": [
        "insert_result.inserted_id     # Shows the document ID "
      ],
      "execution_count": 11,
      "outputs": [
        {
          "output_type": "execute_result",
          "data": {
            "text/plain": [
              "ObjectId('633d4f27c4d33d21842962db')"
            ]
          },
          "metadata": {},
          "execution_count": 11
        }
      ]
    },
    {
      "cell_type": "code",
      "metadata": {
        "colab": {
          "base_uri": "https://localhost:8080/"
        },
        "id": "aIMKBCARi2aU",
        "outputId": "1a98b566-5ece-4616-8006-97b91387dfec"
      },
      "source": [
        "db.Tuwaiq.find()  # returns a cursor"
      ],
      "execution_count": 12,
      "outputs": [
        {
          "output_type": "execute_result",
          "data": {
            "text/plain": [
              "<pymongo.cursor.Cursor at 0x7fdfabe10a90>"
            ]
          },
          "metadata": {},
          "execution_count": 12
        }
      ]
    },
    {
      "cell_type": "markdown",
      "source": [
        "## Read"
      ],
      "metadata": {
        "id": "I_ogcFn4b60v"
      }
    },
    {
      "cell_type": "code",
      "metadata": {
        "colab": {
          "base_uri": "https://localhost:8080/"
        },
        "id": "lHro1WFEi-JN",
        "outputId": "451737ae-b8e5-433f-f7f0-cdb21f044f20"
      },
      "source": [
        "#find in database and collection return cursor\n",
        "c = db.Tuwaiq.find()\n",
        "# iterate code goes here\n",
        "for crnt in c:\n",
        "    print(crnt)"
      ],
      "execution_count": 13,
      "outputs": [
        {
          "output_type": "stream",
          "name": "stdout",
          "text": [
            "{'_id': ObjectId('633d4f27c4d33d21842962db'), 'tweet': 'Tweet text ....', 'count': '5'}\n"
          ]
        }
      ]
    },
    {
      "cell_type": "code",
      "source": [
        "list(db.Tuwaiq.find())"
      ],
      "metadata": {
        "colab": {
          "base_uri": "https://localhost:8080/"
        },
        "id": "486RZ6ggesau",
        "outputId": "8093fd5c-7c70-41df-c40d-89e5b58873bd"
      },
      "execution_count": 14,
      "outputs": [
        {
          "output_type": "execute_result",
          "data": {
            "text/plain": [
              "[{'_id': ObjectId('633d4f27c4d33d21842962db'),\n",
              "  'tweet': 'Tweet text ....',\n",
              "  'count': '5'}]"
            ]
          },
          "metadata": {},
          "execution_count": 14
        }
      ]
    },
    {
      "cell_type": "code",
      "source": [
        "# Close the connection to MongoDB when you're done.\n",
        "client.close()"
      ],
      "metadata": {
        "id": "zZXuvpcQgKYZ"
      },
      "execution_count": null,
      "outputs": []
    }
  ]
}