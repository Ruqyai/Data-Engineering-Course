{
  "nbformat": 4,
  "nbformat_minor": 0,
  "metadata": {
    "colab": {
      "provenance": [],
      "collapsed_sections": [],
      "authorship_tag": "ABX9TyOEGKE3PnpnnRBjuCrt+4hR",
      "include_colab_link": true
    },
    "kernelspec": {
      "name": "python3",
      "display_name": "Python 3"
    },
    "language_info": {
      "name": "python"
    }
  },
  "cells": [
    {
      "cell_type": "markdown",
      "metadata": {
        "id": "view-in-github",
        "colab_type": "text"
      },
      "source": [
        "<a href=\"https://colab.research.google.com/github/Ruqyai/Tuwaiq_Academy/blob/main/spark/Colab/Kafka_on_Colab.ipynb\" target=\"_parent\"><img src=\"https://colab.research.google.com/assets/colab-badge.svg\" alt=\"Open In Colab\"/></a>"
      ]
    },
    {
      "cell_type": "markdown",
      "source": [
        "# RUN KAFKA STREAMS STEPS"
      ],
      "metadata": {
        "id": "DI1B3VZFypEV"
      }
    },
    {
      "cell_type": "markdown",
      "source": [
        "#Step 1: Download the code"
      ],
      "metadata": {
        "id": "wD5aQJtwaAv-"
      }
    },
    {
      "cell_type": "code",
      "source": [
        "!wget https://dlcdn.apache.org/kafka/3.3.1/kafka_2.13-3.3.1.tgz\n",
        "!tar -xzf kafka_2.13-3.3.1.tgz\n"
      ],
      "metadata": {
        "id": "JcjPLromaFpK"
      },
      "execution_count": null,
      "outputs": []
    },
    {
      "cell_type": "code",
      "source": [
        "%cd kafka_2.13-3.3.1"
      ],
      "metadata": {
        "colab": {
          "base_uri": "https://localhost:8080/"
        },
        "id": "Wc885uW4bAh-",
        "outputId": "1b067b69-853d-4ce9-e4fd-f6a0730a01f2"
      },
      "execution_count": 3,
      "outputs": [
        {
          "output_type": "stream",
          "name": "stdout",
          "text": [
            "/content/kafka_2.13-3.3.1\n"
          ]
        }
      ]
    },
    {
      "cell_type": "code",
      "source": [
        "!ls bin"
      ],
      "metadata": {
        "colab": {
          "base_uri": "https://localhost:8080/"
        },
        "id": "JYm6vXbBvj1J",
        "outputId": "7cf952d0-9edd-4fc4-adde-71259d2d8667"
      },
      "execution_count": 21,
      "outputs": [
        {
          "output_type": "stream",
          "name": "stdout",
          "text": [
            "connect-distributed.sh\t      kafka-mirror-maker.sh\n",
            "connect-mirror-maker.sh       kafka-producer-perf-test.sh\n",
            "connect-standalone.sh\t      kafka-reassign-partitions.sh\n",
            "kafka-acls.sh\t\t      kafka-replica-verification.sh\n",
            "kafka-broker-api-versions.sh  kafka-run-class.sh\n",
            "kafka-cluster.sh\t      kafka-server-start.sh\n",
            "kafka-configs.sh\t      kafka-server-stop.sh\n",
            "kafka-console-consumer.sh     kafka-storage.sh\n",
            "kafka-console-producer.sh     kafka-streams-application-reset.sh\n",
            "kafka-consumer-groups.sh      kafka-topics.sh\n",
            "kafka-consumer-perf-test.sh   kafka-transactions.sh\n",
            "kafka-delegation-tokens.sh    kafka-verifiable-consumer.sh\n",
            "kafka-delete-records.sh       kafka-verifiable-producer.sh\n",
            "kafka-dump-log.sh\t      trogdor.sh\n",
            "kafka-features.sh\t      windows\n",
            "kafka-get-offsets.sh\t      zookeeper-security-migration.sh\n",
            "kafka-leader-election.sh      zookeeper-server-start.sh\n",
            "kafka-log-dirs.sh\t      zookeeper-server-stop.sh\n",
            "kafka-metadata-quorum.sh      zookeeper-shell.sh\n",
            "kafka-metadata-shell.sh\n"
          ]
        }
      ]
    },
    {
      "cell_type": "markdown",
      "source": [
        "## Step 2: Start the Kafka server"
      ],
      "metadata": {
        "id": "3pqJe0laazXW"
      }
    },
    {
      "cell_type": "code",
      "source": [
        "!bin/zookeeper-server-start.sh -daemon config/zookeeper.properties"
      ],
      "metadata": {
        "id": "I6TFT-kia7I8"
      },
      "execution_count": 4,
      "outputs": []
    },
    {
      "cell_type": "code",
      "source": [
        "!bin/kafka-server-start.sh -daemon config/server.properties"
      ],
      "metadata": {
        "id": "QFhgHhmPbTrm"
      },
      "execution_count": 5,
      "outputs": []
    },
    {
      "cell_type": "markdown",
      "source": [
        "## Step 3: Prepare input topic and start Kafka producer"
      ],
      "metadata": {
        "id": "QOq75MF4bkek"
      }
    },
    {
      "cell_type": "code",
      "source": [
        "!bin/kafka-topics.sh --create \\\n",
        "    --bootstrap-server localhost:9092 \\\n",
        "    --replication-factor 1 \\\n",
        "    --partitions 1 \\\n",
        "    --topic Tuwaiq"
      ],
      "metadata": {
        "colab": {
          "base_uri": "https://localhost:8080/"
        },
        "id": "TlqMuA9KcpxA",
        "outputId": "e3176a6c-a476-4563-dd23-5dcd19374cd7"
      },
      "execution_count": 6,
      "outputs": [
        {
          "output_type": "stream",
          "name": "stdout",
          "text": [
            "Created topic Tuwaiq.\n"
          ]
        }
      ]
    },
    {
      "cell_type": "markdown",
      "source": [
        "#### Check if the topic exist"
      ],
      "metadata": {
        "id": "Lycr3yGsuXKQ"
      }
    },
    {
      "cell_type": "code",
      "source": [
        "#!bin/kafka-topics.sh --bootstrap-server localhost:9092 --describe"
      ],
      "metadata": {
        "id": "QubF8t4pdogp"
      },
      "execution_count": null,
      "outputs": []
    },
    {
      "cell_type": "code",
      "source": [
        "!bin/kafka-topics.sh --list --bootstrap-server localhost:9092"
      ],
      "metadata": {
        "colab": {
          "base_uri": "https://localhost:8080/"
        },
        "id": "ckG9hDQ4e10E",
        "outputId": "aeb35b70-6126-402c-f9da-8117d482100f"
      },
      "execution_count": 7,
      "outputs": [
        {
          "output_type": "stream",
          "name": "stdout",
          "text": [
            "Tuwaiq\n"
          ]
        }
      ]
    },
    {
      "cell_type": "markdown",
      "source": [
        "## Step 4: Start send and receive messages"
      ],
      "metadata": {
        "id": "yfGBhmPnd2ho"
      }
    },
    {
      "cell_type": "code",
      "source": [
        "!bin/kafka-console-producer.sh --bootstrap-server localhost:9092 --topic Tuwaiq\n"
      ],
      "metadata": {
        "colab": {
          "base_uri": "https://localhost:8080/"
        },
        "id": "B-v2vSrCfcK3",
        "outputId": "e6baa9bb-087c-4f3c-d684-50a97e5521db"
      },
      "execution_count": 52,
      "outputs": [
        {
          "output_type": "stream",
          "name": "stdout",
          "text": [
            ">"
          ]
        }
      ]
    },
    {
      "cell_type": "code",
      "source": [
        "!bin/kafka-console-consumer.sh --topic Tuwaiq --from-beginning --bootstrap-server localhost:9092"
      ],
      "metadata": {
        "id": "6xzzyFTAqfPH"
      },
      "execution_count": null,
      "outputs": []
    },
    {
      "cell_type": "markdown",
      "source": [
        "## Example using kafka-python"
      ],
      "metadata": {
        "id": "unuPr6aQtPHn"
      }
    },
    {
      "cell_type": "code",
      "source": [
        "!pip install kafka-python &> /dev/null"
      ],
      "metadata": {
        "id": "_LBWjBRwjr2B"
      },
      "execution_count": null,
      "outputs": []
    },
    {
      "cell_type": "code",
      "source": [
        "!wget https://raw.githubusercontent.com/Ruqyai/Tuwaiq_Academy/main/app/producer.py &> /dev/null"
      ],
      "metadata": {
        "id": "bYt2IvsCjC3R"
      },
      "execution_count": null,
      "outputs": []
    },
    {
      "cell_type": "code",
      "source": [
        "#@title Warning\n",
        "from IPython.display import HTML\n",
        "from google.colab.output import _publish as publish\n",
        "publish.css(\"b {color: red} #loc {color: blue}\")\n",
        "HTML(\"<b>Warning:</b> Before go to next step, edit the host in <b id=loc>producer.py file</b> to <b id=loc>localhost</b>\")"
      ],
      "metadata": {
        "colab": {
          "base_uri": "https://localhost:8080/",
          "height": 34
        },
        "cellView": "form",
        "id": "azTsL_yHwmZm",
        "outputId": "daf3c790-9540-4695-e2d8-6b3a73fc4e9a"
      },
      "execution_count": 30,
      "outputs": [
        {
          "output_type": "display_data",
          "data": {
            "text/plain": [
              "<IPython.core.display.HTML object>"
            ],
            "text/html": [
              "<style>b {color: red} #loc {color: blue}</style>"
            ]
          },
          "metadata": {}
        },
        {
          "output_type": "execute_result",
          "data": {
            "text/plain": [
              "<IPython.core.display.HTML object>"
            ],
            "text/html": [
              "<b>Warning:</b> Before go to next step, edit the host in <b id=loc>producer.py file</b> to <b id=loc>localhost</b>"
            ]
          },
          "metadata": {},
          "execution_count": 30
        }
      ]
    },
    {
      "cell_type": "code",
      "source": [
        "# run the script in the background\n",
        "import subprocess\n",
        "subprocess.Popen([\"python\", \"/content/kafka_2.13-3.3.1/producer.py\"]) \n"
      ],
      "metadata": {
        "id": "bulSDbHIm-Nr"
      },
      "execution_count": null,
      "outputs": []
    },
    {
      "cell_type": "code",
      "source": [
        "!bin/kafka-console-consumer.sh --topic Tuwaiq --bootstrap-server localhost:9092"
      ],
      "metadata": {
        "id": "gUVi5bUpgTfv"
      },
      "execution_count": null,
      "outputs": []
    },
    {
      "cell_type": "code",
      "source": [
        "# stop running the script in the background\n",
        "p = subprocess.Popen('cmd', stdout=subprocess.PIPE, shell=True)\n",
        "p.kill()"
      ],
      "metadata": {
        "id": "a_yu98T9rfDf"
      },
      "execution_count": 16,
      "outputs": []
    }
  ]
}