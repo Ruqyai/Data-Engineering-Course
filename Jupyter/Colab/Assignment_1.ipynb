{
  "nbformat": 4,
  "nbformat_minor": 0,
  "metadata": {
    "colab": {
      "provenance": [],
      "authorship_tag": "ABX9TyM4x4E7h1dNvT1CLM/xN5Zx",
      "include_colab_link": true
    },
    "kernelspec": {
      "name": "python3",
      "display_name": "Python 3"
    },
    "language_info": {
      "name": "python"
    }
  },
  "cells": [
    {
      "cell_type": "markdown",
      "metadata": {
        "id": "view-in-github",
        "colab_type": "text"
      },
      "source": [
        "<a href=\"https://colab.research.google.com/github/Ruqyai/Tuwaiq_Academy/blob/main/spark/Colab/Assignment_1.ipynb\" target=\"_parent\"><img src=\"https://colab.research.google.com/assets/colab-badge.svg\" alt=\"Open In Colab\"/></a>"
      ]
    },
    {
      "cell_type": "markdown",
      "source": [
        "# Academy: Data Engineering: Assignment 1"
      ],
      "metadata": {
        "id": "RVXHSib5O4_j"
      }
    },
    {
      "cell_type": "code",
      "execution_count": 1,
      "metadata": {
        "colab": {
          "base_uri": "https://localhost:8080/"
        },
        "id": "zfjhA-U0GDXW",
        "outputId": "241dffe0-ba99-4c81-cba6-bdde1b94fb36"
      },
      "outputs": [
        {
          "output_type": "stream",
          "name": "stdout",
          "text": [
            "\u001b[K     |████████████████████████████████| 281.3 MB 47 kB/s \n",
            "\u001b[K     |████████████████████████████████| 1.4 MB 8.8 MB/s \n",
            "\u001b[K     |████████████████████████████████| 199 kB 71.6 MB/s \n",
            "\u001b[K     |████████████████████████████████| 11.2 MB 146 kB/s \n",
            "\u001b[K     |████████████████████████████████| 45 kB 3.8 MB/s \n",
            "\u001b[K     |████████████████████████████████| 51 kB 8.4 MB/s \n",
            "\u001b[K     |████████████████████████████████| 4.0 MB 50.4 MB/s \n",
            "\u001b[K     |████████████████████████████████| 960 kB 66.4 MB/s \n",
            "\u001b[?25h  Building wheel for pyspark (setup.py) ... \u001b[?25l\u001b[?25hdone\n",
            "  Building wheel for ligo-segments (setup.py) ... \u001b[?25l\u001b[?25hdone\n"
          ]
        }
      ],
      "source": [
        "!pip install pyspark -q gwpy"
      ]
    },
    {
      "cell_type": "code",
      "source": [
        "import pyspark\n",
        "from pyspark.sql import SparkSession\n",
        "\n",
        "spark = SparkSession.builder.getOrCreate()\n"
      ],
      "metadata": {
        "id": "-x8OFE_JGoNH"
      },
      "execution_count": 2,
      "outputs": []
    },
    {
      "cell_type": "code",
      "source": [
        "%%capture\n",
        "!wget https://raw.githubusercontent.com/Ruqyai/Course-DS/ef2eb5cfef26c7b3f1f17c334b6e0ccc02c47a2d/math-raw.csv"
      ],
      "metadata": {
        "id": "pETPL5H9Hc3T"
      },
      "execution_count": 3,
      "outputs": []
    },
    {
      "cell_type": "code",
      "source": [
        "!ls"
      ],
      "metadata": {
        "colab": {
          "base_uri": "https://localhost:8080/"
        },
        "id": "Dcc3uZB2NXrE",
        "outputId": "154d013f-cffc-4af8-82da-9ba1ef85cfa5"
      },
      "execution_count": 4,
      "outputs": [
        {
          "output_type": "stream",
          "name": "stdout",
          "text": [
            "math-raw.csv  sample_data\n"
          ]
        }
      ]
    },
    {
      "cell_type": "markdown",
      "source": [
        "###Creat spark datafream using the csv file"
      ],
      "metadata": {
        "id": "h8967KXdNgxp"
      }
    },
    {
      "cell_type": "code",
      "source": [
        "# write you code here"
      ],
      "metadata": {
        "id": "x55Xxax0On0s"
      },
      "execution_count": 5,
      "outputs": []
    },
    {
      "cell_type": "code",
      "source": [
        "#@title proposed solution\n",
        "#spdf = spark.read.format(\"csv\").option(\"header\",\"true\").load(\"/content/math-raw.csv\")\n",
        "#spdf.show(5)"
      ],
      "metadata": {
        "cellView": "form",
        "id": "9t_4y6qQGpb8"
      },
      "execution_count": 6,
      "outputs": []
    },
    {
      "cell_type": "markdown",
      "source": [
        "### Select on column"
      ],
      "metadata": {
        "id": "1ZX4MsA2L5_9"
      }
    },
    {
      "cell_type": "code",
      "source": [
        "# write you code here"
      ],
      "metadata": {
        "id": "uM8q3kG3HXL_"
      },
      "execution_count": 7,
      "outputs": []
    },
    {
      "cell_type": "markdown",
      "source": [
        "### Filter father job to show teachers"
      ],
      "metadata": {
        "id": "xaNP86VjMeMV"
      }
    },
    {
      "cell_type": "code",
      "source": [
        "# write you code here"
      ],
      "metadata": {
        "id": "L_magNLxM0wp"
      },
      "execution_count": 8,
      "outputs": []
    }
  ]
}