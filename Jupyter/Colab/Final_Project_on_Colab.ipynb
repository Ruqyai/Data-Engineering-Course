{
  "nbformat": 4,
  "nbformat_minor": 0,
  "metadata": {
    "colab": {
      "provenance": [],
      "collapsed_sections": [],
      "authorship_tag": "ABX9TyOYbie2NhdBrOAfV+Ddgd/y",
      "include_colab_link": true
    },
    "kernelspec": {
      "name": "python3",
      "display_name": "Python 3"
    },
    "language_info": {
      "name": "python"
    }
  },
  "cells": [
    {
      "cell_type": "markdown",
      "metadata": {
        "id": "view-in-github",
        "colab_type": "text"
      },
      "source": [
        "<a href=\"https://colab.research.google.com/github/Ruqyai/Tuwaiq_Academy/blob/main/Jupyter/Colab/Final_Project_on_Colab.ipynb\" target=\"_parent\"><img src=\"https://colab.research.google.com/assets/colab-badge.svg\" alt=\"Open In Colab\"/></a>"
      ]
    },
    {
      "cell_type": "markdown",
      "source": [
        "# Final Project on Colab"
      ],
      "metadata": {
        "id": "DI1B3VZFypEV"
      }
    },
    {
      "cell_type": "markdown",
      "source": [
        "#Step 1: Download the code"
      ],
      "metadata": {
        "id": "wD5aQJtwaAv-"
      }
    },
    {
      "cell_type": "code",
      "source": [
        "!wget https://dlcdn.apache.org/kafka/3.3.1/kafka_2.13-3.3.1.tgz\n",
        "!tar -xzf kafka_2.13-3.3.1.tgz\n"
      ],
      "metadata": {
        "id": "JcjPLromaFpK",
        "colab": {
          "base_uri": "https://localhost:8080/"
        },
        "outputId": "3b321a78-2543-4afe-9573-6d125a08821e"
      },
      "execution_count": 1,
      "outputs": [
        {
          "output_type": "stream",
          "name": "stdout",
          "text": [
            "--2022-10-13 12:00:14--  https://dlcdn.apache.org/kafka/3.3.1/kafka_2.13-3.3.1.tgz\n",
            "Resolving dlcdn.apache.org (dlcdn.apache.org)... 151.101.2.132, 2a04:4e42::644\n",
            "Connecting to dlcdn.apache.org (dlcdn.apache.org)|151.101.2.132|:443... connected.\n",
            "HTTP request sent, awaiting response... 200 OK\n",
            "Length: 105053134 (100M) [application/x-gzip]\n",
            "Saving to: ‘kafka_2.13-3.3.1.tgz’\n",
            "\n",
            "kafka_2.13-3.3.1.tg 100%[===================>] 100.19M   266MB/s    in 0.4s    \n",
            "\n",
            "2022-10-13 12:00:14 (266 MB/s) - ‘kafka_2.13-3.3.1.tgz’ saved [105053134/105053134]\n",
            "\n"
          ]
        }
      ]
    },
    {
      "cell_type": "code",
      "source": [
        "%cd kafka_2.13-3.3.1"
      ],
      "metadata": {
        "colab": {
          "base_uri": "https://localhost:8080/"
        },
        "id": "Wc885uW4bAh-",
        "outputId": "e7caa6eb-23aa-4408-a1ef-79a321d4819c"
      },
      "execution_count": 2,
      "outputs": [
        {
          "output_type": "stream",
          "name": "stdout",
          "text": [
            "/content/kafka_2.13-3.3.1\n"
          ]
        }
      ]
    },
    {
      "cell_type": "code",
      "source": [
        "!ls bin"
      ],
      "metadata": {
        "colab": {
          "base_uri": "https://localhost:8080/"
        },
        "id": "JYm6vXbBvj1J",
        "outputId": "1fbe1f8f-62bf-42ed-864b-64be6083d8b5"
      },
      "execution_count": 3,
      "outputs": [
        {
          "output_type": "stream",
          "name": "stdout",
          "text": [
            "connect-distributed.sh\t      kafka-mirror-maker.sh\n",
            "connect-mirror-maker.sh       kafka-producer-perf-test.sh\n",
            "connect-standalone.sh\t      kafka-reassign-partitions.sh\n",
            "kafka-acls.sh\t\t      kafka-replica-verification.sh\n",
            "kafka-broker-api-versions.sh  kafka-run-class.sh\n",
            "kafka-cluster.sh\t      kafka-server-start.sh\n",
            "kafka-configs.sh\t      kafka-server-stop.sh\n",
            "kafka-console-consumer.sh     kafka-storage.sh\n",
            "kafka-console-producer.sh     kafka-streams-application-reset.sh\n",
            "kafka-consumer-groups.sh      kafka-topics.sh\n",
            "kafka-consumer-perf-test.sh   kafka-transactions.sh\n",
            "kafka-delegation-tokens.sh    kafka-verifiable-consumer.sh\n",
            "kafka-delete-records.sh       kafka-verifiable-producer.sh\n",
            "kafka-dump-log.sh\t      trogdor.sh\n",
            "kafka-features.sh\t      windows\n",
            "kafka-get-offsets.sh\t      zookeeper-security-migration.sh\n",
            "kafka-leader-election.sh      zookeeper-server-start.sh\n",
            "kafka-log-dirs.sh\t      zookeeper-server-stop.sh\n",
            "kafka-metadata-quorum.sh      zookeeper-shell.sh\n",
            "kafka-metadata-shell.sh\n"
          ]
        }
      ]
    },
    {
      "cell_type": "markdown",
      "source": [
        "## Step 2: Start the Kafka server"
      ],
      "metadata": {
        "id": "3pqJe0laazXW"
      }
    },
    {
      "cell_type": "code",
      "source": [
        "!bin/zookeeper-server-start.sh -daemon config/zookeeper.properties"
      ],
      "metadata": {
        "id": "I6TFT-kia7I8"
      },
      "execution_count": 4,
      "outputs": []
    },
    {
      "cell_type": "code",
      "source": [
        "!bin/kafka-server-start.sh -daemon config/server.properties"
      ],
      "metadata": {
        "id": "QFhgHhmPbTrm"
      },
      "execution_count": 5,
      "outputs": []
    },
    {
      "cell_type": "markdown",
      "source": [
        "## Step 3: Prepare input topic and start Kafka producer"
      ],
      "metadata": {
        "id": "QOq75MF4bkek"
      }
    },
    {
      "cell_type": "code",
      "source": [
        "!bin/kafka-topics.sh --create \\\n",
        "    --bootstrap-server localhost:9092 \\\n",
        "    --replication-factor 1 \\\n",
        "    --partitions 1 \\\n",
        "    --topic Tuwaiq"
      ],
      "metadata": {
        "colab": {
          "base_uri": "https://localhost:8080/"
        },
        "id": "TlqMuA9KcpxA",
        "outputId": "4794a786-f16a-477a-9f5f-e3ad790108c3"
      },
      "execution_count": 6,
      "outputs": [
        {
          "output_type": "stream",
          "name": "stdout",
          "text": [
            "Created topic Tuwaiq.\n"
          ]
        }
      ]
    },
    {
      "cell_type": "markdown",
      "source": [
        "#### Check if the topic exist"
      ],
      "metadata": {
        "id": "Lycr3yGsuXKQ"
      }
    },
    {
      "cell_type": "code",
      "source": [
        "#!bin/kafka-topics.sh --bootstrap-server localhost:9092 --describe"
      ],
      "metadata": {
        "id": "QubF8t4pdogp"
      },
      "execution_count": 8,
      "outputs": []
    },
    {
      "cell_type": "code",
      "source": [
        "!bin/kafka-topics.sh --list --bootstrap-server localhost:9092"
      ],
      "metadata": {
        "colab": {
          "base_uri": "https://localhost:8080/"
        },
        "id": "ckG9hDQ4e10E",
        "outputId": "0f274e91-daef-4007-8e01-6961ef40e082"
      },
      "execution_count": 7,
      "outputs": [
        {
          "output_type": "stream",
          "name": "stdout",
          "text": [
            "Tuwaiq\n"
          ]
        }
      ]
    },
    {
      "cell_type": "markdown",
      "source": [
        "## Step 4: Start send and receive messages"
      ],
      "metadata": {
        "id": "yfGBhmPnd2ho"
      }
    },
    {
      "cell_type": "code",
      "source": [
        "#!bin/kafka-console-producer.sh --bootstrap-server localhost:9092 --topic Tuwaiq\n"
      ],
      "metadata": {
        "id": "B-v2vSrCfcK3"
      },
      "execution_count": 8,
      "outputs": []
    },
    {
      "cell_type": "code",
      "source": [
        "#!bin/kafka-console-consumer.sh --topic Tuwaiq --from-beginning --bootstrap-server localhost:9092"
      ],
      "metadata": {
        "id": "6xzzyFTAqfPH"
      },
      "execution_count": 9,
      "outputs": []
    },
    {
      "cell_type": "markdown",
      "source": [
        "## Use kafka-python"
      ],
      "metadata": {
        "id": "unuPr6aQtPHn"
      }
    },
    {
      "cell_type": "code",
      "source": [
        "!pip install kafka-python &> /dev/null"
      ],
      "metadata": {
        "id": "_LBWjBRwjr2B"
      },
      "execution_count": 10,
      "outputs": []
    },
    {
      "cell_type": "code",
      "source": [
        "!wget https://raw.githubusercontent.com/Ruqyai/Tuwaiq_Academy/main/app/producer.py &> /dev/null"
      ],
      "metadata": {
        "id": "bYt2IvsCjC3R"
      },
      "execution_count": 11,
      "outputs": []
    },
    {
      "cell_type": "code",
      "source": [
        "#@title Warning : localhost\n",
        "from IPython.display import HTML\n",
        "from google.colab.output import _publish as publish\n",
        "publish.css(\"b {color: red} #loc {color: blue}\")\n",
        "HTML(\"<b>Warning:</b> Before go to next step, edit the host in <b id=loc>producer.py file</b> to <b id=loc>localhost</b>\")"
      ],
      "metadata": {
        "colab": {
          "base_uri": "https://localhost:8080/",
          "height": 34
        },
        "id": "azTsL_yHwmZm",
        "outputId": "1ab1a052-6e8f-437e-8f0c-bf3cdd492868"
      },
      "execution_count": 12,
      "outputs": [
        {
          "output_type": "display_data",
          "data": {
            "text/plain": [
              "<IPython.core.display.HTML object>"
            ],
            "text/html": [
              "<style>b {color: red} #loc {color: blue}</style>"
            ]
          },
          "metadata": {}
        },
        {
          "output_type": "execute_result",
          "data": {
            "text/plain": [
              "<IPython.core.display.HTML object>"
            ],
            "text/html": [
              "<b>Warning:</b> Before go to next step, edit the host in <b id=loc>producer.py file</b> to <b id=loc>localhost</b>"
            ]
          },
          "metadata": {},
          "execution_count": 12
        }
      ]
    },
    {
      "cell_type": "code",
      "source": [
        "# run the script in the background\n",
        "import subprocess\n",
        "subprocess.Popen([\"python\", \"/content/kafka_2.13-3.3.1/producer.py\"]) \n"
      ],
      "metadata": {
        "id": "bulSDbHIm-Nr",
        "colab": {
          "base_uri": "https://localhost:8080/"
        },
        "outputId": "93b0ccb4-b08c-4880-aa45-f2be0c56a707"
      },
      "execution_count": 13,
      "outputs": [
        {
          "output_type": "execute_result",
          "data": {
            "text/plain": [
              "<subprocess.Popen at 0x7f7ef41ba510>"
            ]
          },
          "metadata": {},
          "execution_count": 13
        }
      ]
    },
    {
      "cell_type": "code",
      "source": [
        "#!bin/kafka-console-consumer.sh --topic Tuwaiq --bootstrap-server localhost:9092"
      ],
      "metadata": {
        "id": "gUVi5bUpgTfv"
      },
      "execution_count": 16,
      "outputs": []
    },
    {
      "cell_type": "code",
      "source": [
        "!apt install mongodb &> /dev/null\n",
        " \n",
        "#Local Server Need Not be started for Remote Operations\n",
        "!service mongodb start"
      ],
      "metadata": {
        "colab": {
          "base_uri": "https://localhost:8080/"
        },
        "id": "iXGpI_1UHJ-m",
        "outputId": "ff22ce40-9787-4d78-a6af-24c410ef9488"
      },
      "execution_count": 14,
      "outputs": [
        {
          "output_type": "stream",
          "name": "stdout",
          "text": [
            " * Starting database mongodb\n",
            "   ...done.\n"
          ]
        }
      ]
    },
    {
      "cell_type": "code",
      "source": [
        "!wget https://raw.githubusercontent.com/Ruqyai/Tuwaiq_Academy/main/app/consumer.py &> /dev/null"
      ],
      "metadata": {
        "id": "5uxlvvG_G350"
      },
      "execution_count": 15,
      "outputs": []
    },
    {
      "cell_type": "code",
      "source": [
        "#@title Warning : localhost\n",
        "from IPython.display import HTML\n",
        "from google.colab.output import _publish as publish\n",
        "publish.css(\"b {color: red} #loc {color: blue}\")\n",
        "HTML(\"<b>Warning:</b> Before go to next step, edit the host in <b id=loc>consumer.py file</b> to <b id=loc>localhost</b>\")"
      ],
      "metadata": {
        "colab": {
          "base_uri": "https://localhost:8080/",
          "height": 34
        },
        "id": "GYqYKD8LMo0X",
        "outputId": "f440b192-80a0-48fe-ce83-640180b6ea1d"
      },
      "execution_count": 19,
      "outputs": [
        {
          "output_type": "display_data",
          "data": {
            "text/plain": [
              "<IPython.core.display.HTML object>"
            ],
            "text/html": [
              "<style>b {color: red} #loc {color: blue}</style>"
            ]
          },
          "metadata": {}
        },
        {
          "output_type": "execute_result",
          "data": {
            "text/plain": [
              "<IPython.core.display.HTML object>"
            ],
            "text/html": [
              "<b>Warning:</b> Before go to next step, edit the host in <b id=loc>consumer.py file</b> to <b id=loc>localhost</b>"
            ]
          },
          "metadata": {},
          "execution_count": 19
        }
      ]
    },
    {
      "cell_type": "code",
      "source": [
        "# run the script in the background\n",
        "import subprocess\n",
        "subprocess.Popen([\"python\", \"/content/kafka_2.13-3.3.1/consumer.py\"]) \n"
      ],
      "metadata": {
        "colab": {
          "base_uri": "https://localhost:8080/"
        },
        "id": "AlfICWqnHfYe",
        "outputId": "d11e361d-d5cb-4a9f-e224-b90fb7d5f95a"
      },
      "execution_count": 16,
      "outputs": [
        {
          "output_type": "execute_result",
          "data": {
            "text/plain": [
              "<subprocess.Popen at 0x7f7ef9efd4d0>"
            ]
          },
          "metadata": {},
          "execution_count": 16
        }
      ]
    },
    {
      "cell_type": "code",
      "source": [
        "! pip install dash &> /dev/null\n",
        "! pip install jupyter_dash &> /dev/null\n",
        "! pip install --upgrade plotly &> /dev/null\n",
        "! pip install Flask &> /dev/null\n",
        "! pip install dash-bootstrap-components &> /dev/null\n",
        "! pip install dash-core-components &> /dev/null\n",
        "! pip install dash-html-components &> /dev/null\n",
        "! pip install celery &> /dev/null"
      ],
      "metadata": {
        "id": "smkA_BhnIAzQ"
      },
      "execution_count": 17,
      "outputs": []
    },
    {
      "cell_type": "code",
      "source": [
        "from pymongo import MongoClient\n",
        "import flask\n",
        "#import dash\n",
        "from jupyter_dash import JupyterDash \n",
        "import dash_bootstrap_components as dbc\n",
        "import dash_core_components as dcc\n",
        "import dash_html_components as html\n",
        "from dash.dependencies import Input, Output\n",
        "import plotly.graph_objs as go\n",
        "import nltk\n",
        "from nltk.probability import FreqDist\n",
        "from nltk.tokenize import word_tokenize\n",
        "from nltk.corpus import stopwords\n",
        "from textblob import TextBlob\n",
        "import pandas as pd\n",
        "import datetime\n",
        "import itertools\n",
        "import math\n",
        "import re\n",
        "nltk.download('punkt')\n",
        "nltk.download('stopwords')"
      ],
      "metadata": {
        "colab": {
          "base_uri": "https://localhost:8080/",
          "height": 269
        },
        "id": "cfnMLEGPIm1g",
        "outputId": "0561a007-2105-470e-9716-86924e4991cd"
      },
      "execution_count": 19,
      "outputs": [
        {
          "output_type": "stream",
          "name": "stderr",
          "text": [
            "/usr/local/lib/python3.7/dist-packages/ipykernel_launcher.py:6: UserWarning: \n",
            "The dash_core_components package is deprecated. Please replace\n",
            "`import dash_core_components as dcc` with `from dash import dcc`\n",
            "  \n",
            "/usr/local/lib/python3.7/dist-packages/ipykernel_launcher.py:7: UserWarning: \n",
            "The dash_html_components package is deprecated. Please replace\n",
            "`import dash_html_components as html` with `from dash import html`\n",
            "  import sys\n",
            "[nltk_data] Downloading package punkt to /root/nltk_data...\n",
            "[nltk_data]   Unzipping tokenizers/punkt.zip.\n",
            "[nltk_data] Downloading package stopwords to /root/nltk_data...\n",
            "[nltk_data]   Unzipping corpora/stopwords.zip.\n"
          ]
        },
        {
          "output_type": "execute_result",
          "data": {
            "text/plain": [
              "True"
            ]
          },
          "metadata": {},
          "execution_count": 19
        }
      ]
    },
    {
      "cell_type": "code",
      "source": [
        "\n",
        "#========== to conncet to mongodb to show data in a dashboard========\n",
        "db_host = 'localhost'\n",
        "db_port = 27017\n",
        "db_name = 'Tuwaiq'\n",
        "db_collection = 'Tuwaiq'\n",
        "\n",
        "#---- colors--------\n",
        "START_COLOR = '#FEFEFE'\n",
        "POSITIVE_COLOR = '#00ff00'\n",
        "NEGATIVE_COLOR = '#fc0303'\n",
        "NEUTRAL_COLOR = '#e98d2e'\n",
        "\n",
        "dash_app = JupyterDash(__name__, external_stylesheets=[dbc.themes.BOOTSTRAP])\n",
        "dash_app.title = 'donald-track'\n",
        "\n",
        "server = dash_app.server\n",
        "\n",
        "##########################################\n",
        "#       The layout\n",
        "##########################################\n",
        "# doc https://dash.plotly.com/dash-core-components\n",
        "\n",
        "dash_app.layout = html.Div(children=[\n",
        "    # Header\n",
        "    html.Header(\n",
        "        children=[\n",
        "\n",
        "            html.H1(\n",
        "                'Dashboard'\n",
        "            ),\n",
        "            html.H3(\n",
        "                'Tracker tweets in real-time for a certain hashtag'\n",
        "            )\n",
        "        ],\n",
        "        style=dict(padding='25px', textAlign='center')\n",
        "    ),\n",
        "\n",
        "    # Graphs\n",
        "    html.Div(id='top-section'),\n",
        "    html.Div(id='bottom-section'),\n",
        "\n",
        "    # Footer\n",
        "    html.Footer(\n",
        "        className='text-lg-start bg-light text-muted',\n",
        "        children=[\n",
        "            html.Section(\n",
        "                children=[\n",
        "\n",
        "                    html.H6(\n",
        "                        'Created for Data Engineering Course in Tuwaiq Academy'\n",
        "                    )\n",
        "\n",
        "                ]\n",
        "            )\n",
        "        ], style=dict(padding='25px', textAlign='center')\n",
        "    ),\n",
        "\n",
        "    # Update the data evey 2 sec for more info read https://dash.plotly.com/dash-core-components/interval\n",
        "    dcc.Interval(\n",
        "        id='interval-component-fast',\n",
        "        interval=2000, # milliseconds \n",
        "        n_intervals=0 # Number of times the interval has passed\n",
        "    )\n",
        "])\n",
        "\n",
        "##########################################\n",
        "#       fill out the layout\n",
        "##########################################\n",
        "# for more info read https://dash.plotly.com/advanced-callbacks\n",
        "\n",
        "@dash_app.callback(Output('top-section', 'children'),\n",
        "                   [Input('interval-component-fast', 'n_intervals')])\n",
        "def update_top_section_live(n):\n",
        "    # Loading data from MongoDB\n",
        "    client = MongoClient(db_host, db_port)\n",
        "    db = client[db_name]\n",
        "    df = pd.DataFrame(list(db[db_collection].find()))\n",
        "\n",
        "    # Convert string to datetime\n",
        "    df['created_at'] = pd.to_datetime(df['created_at'])\n",
        "    df['user_created_at'] = pd.to_datetime(df['user_created_at'])\n",
        "\n",
        "    # Clean and transform data to enable time series\n",
        "    result = df.groupby([pd.Grouper(key='created_at', freq='5s'), 'polarity']) \\\n",
        "        .count().unstack(fill_value=0).stack().reset_index()\n",
        "    result = result.rename(columns={\"_id\": \"number_of_tweets\"})\n",
        "    time_series = result[\"created_at\"][result['polarity'] == 0].reset_index(drop=True) # x\n",
        "\n",
        "    min30 = datetime.datetime.utcnow() - datetime.timedelta(minutes=30)\n",
        "\n",
        "    neutral_num = result[result['created_at'] > min30][\"number_of_tweets\"][result['polarity'] == 0].sum() #y\n",
        "    negative_num = result[result['created_at'] > min30][\"number_of_tweets\"][result['polarity'] == -1].sum() #y\n",
        "    positive_num = result[result['created_at'] > min30][\"number_of_tweets\"][result['polarity'] == 1].sum() #y\n",
        "\n",
        "    # Create the graph\n",
        "    children = [\n",
        "        html.Div(\n",
        "            className='container-fluid',\n",
        "            children=[\n",
        "                html.Div(\n",
        "                    className='row',\n",
        "                    children=[\n",
        "                        html.Div(\n",
        "                            className='col-md-8 col-lg-8 col-xl-8 mx-auto',\n",
        "                            children=[\n",
        "                                # Line Chart\n",
        "                                html.Div([\n",
        "                                    dcc.Graph(id='line-chart', figure={'data': [\n",
        "                                        go.Scatter(x=time_series,\n",
        "                                                   y=result[\"number_of_tweets\"][result['polarity'] == 0].reset_index( drop=True),\n",
        "                                                   name=\"Neutrals\",\n",
        "                                                   opacity=0.8,\n",
        "                                                   mode='lines',\n",
        "                                                   line=dict(width=0.5, color=NEUTRAL_COLOR),\n",
        "                                                   stackgroup='one'),\n",
        "\n",
        "                                        go.Scatter(x=time_series,\n",
        "                                                   y=result[\"number_of_tweets\"][result['polarity'] == -1].reset_index( drop=True).apply(lambda x: -x),\n",
        "                                                   name=\"Negatives\",\n",
        "                                                   opacity=0.8,\n",
        "                                                   mode='lines',\n",
        "                                                   line=dict( width=0.5, color=NEGATIVE_COLOR),\n",
        "                                                   stackgroup='two' ),\n",
        "                                        go.Scatter(x=time_series,\n",
        "                                                   y=result[\"number_of_tweets\"][result['polarity'] == 1].reset_index(drop=True),\n",
        "                                                   name=\"Positives\",\n",
        "                                                   opacity=0.8,\n",
        "                                                   mode='lines',\n",
        "                                                   line=dict(width=0.5, color=POSITIVE_COLOR),\n",
        "                                                   stackgroup='three')\n",
        "                                    ],\n",
        "                                        'layout': {\n",
        "                                        'title': 'Using sentiment analysis to show User opinions'\n",
        "                                    }\n",
        "                                    }\n",
        "                                    )\n",
        "                                ])\n",
        "                            ]\n",
        "                        ),\n",
        "                        html.Div(\n",
        "                            className='col-md-4 col-lg-4 col-xl-4 mx-auto',\n",
        "                            children=[\n",
        "\n",
        "                                # Pie Chart\n",
        "                                html.Div([\n",
        "                                    dcc.Graph(id='pie-chart', figure={'data': [\n",
        "                                            go.Pie(labels=['Positives', 'Negatives', 'Neutrals'],\n",
        "                                               values=[positive_num, negative_num, neutral_num],\n",
        "                                               name=\"View Metrics\",\n",
        "                                               opacity=0.7,\n",
        "                                               marker_colors=[POSITIVE_COLOR, NEGATIVE_COLOR, NEUTRAL_COLOR],\n",
        "                                               textinfo='value',\n",
        "                                               hole=0.65)],\n",
        "                                        'layout': {'showlegend': False, 'title': 'Positive VS. negative Vs. neutral tweets in last 30 minutes', 'annotations': [\n",
        "                                            dict(text='{0:.1f}K'.format((positive_num + negative_num + neutral_num) / 1000),\n",
        "                                            font=dict(size=40), showarrow=False)]\n",
        "                                            }\n",
        "                                        }\n",
        "                                    )\n",
        "                                ])\n",
        "                            ]\n",
        "                        )\n",
        "                    ]\n",
        "                )\n",
        "            ]\n",
        "        )\n",
        "    ]\n",
        "    return children\n",
        "\n",
        "# ===============================bottom-section==================\n",
        "\n",
        "@dash_app.callback(Output('bottom-section', 'children'), \n",
        "                [Input('interval-component-fast', 'n_intervals')])\n",
        "\n",
        "def update_bottom_section_live(n):\n",
        "    # Loading data from MongoDB\n",
        "    client = MongoClient(db_host, db_port)\n",
        "    db = client[db_name]\n",
        "    df = pd.DataFrame(list(db[db_collection].find()))\n",
        "\n",
        "    # Convert string to datetime\n",
        "    df['created_at'] = pd.to_datetime(df['created_at'])\n",
        "    df['user_created_at'] = pd.to_datetime(df['user_created_at'])\n",
        "\n",
        "    # Clean and transform data to enable word frequency\n",
        "    content = ' '.join(df['text']) # tweets text\n",
        "    content = re.sub(r'http\\S+', '', content)\n",
        "    content = content.replace('RT ', ' ').replace('&amp;', 'and')\n",
        "    content = re.sub('[^A-Za-z0-9]+', ' ', content)\n",
        "    content = content.lower()\n",
        "    tokenized_word = word_tokenize(content)\n",
        "    stop_words = set(stopwords.words('english'))\n",
        "    filtered_sent = [] #--------------to count frequency words in the tweets to be top related topics \n",
        "    for w in tokenized_word:\n",
        "        if (w not in stop_words) and (len(w) >= 3):\n",
        "            filtered_sent.append(w)\n",
        "    fdist = FreqDist(filtered_sent) # https://www.educative.io/answers/what-is-freqdist-in-python\n",
        "\n",
        "    fd = pd.DataFrame(fdist.most_common(16), columns=['word', 'frequency']).drop([0]).reindex() # df\n",
        "    fd['polarity'] = fd['word'].apply(lambda x: TextBlob(x).sentiment.polarity) # sentiment analysis\n",
        "    fd['marker_color'] = fd['polarity'].apply(lambda x: NEGATIVE_COLOR if x < -0.1 else (POSITIVE_COLOR if x > 0.1 else NEUTRAL_COLOR))\n",
        "    fd['line_color'] = fd['polarity'].apply(lambda x: NEGATIVE_COLOR if x < -0.1 else (POSITIVE_COLOR if x > 0.1 else NEUTRAL_COLOR))\n",
        "\n",
        "    # Create the graph\n",
        "    children = [\n",
        "        html.Div(\n",
        "            className='container-fluid',\n",
        "            children=[\n",
        "                html.Div(\n",
        "                    className='row',\n",
        "                    children=[\n",
        "                        html.Div(\n",
        "                            className='col',\n",
        "                            children=[\n",
        "                                # Bar Chart\n",
        "                                dcc.Graph(id='bar-chart', figure={'data': [\n",
        "                                            go.Bar(x=fd[\"frequency\"].loc[::-1],\n",
        "                                                y=fd[\"word\"].loc[::-1],\n",
        "                                                name=\"Neutrals\",\n",
        "                                                orientation='h',\n",
        "                                                marker_color=fd['marker_color'].loc[::-1],\n",
        "                                                marker=dict(line=dict(color=fd['line_color'].loc[::-1], width=1),),\n",
        "                                                opacity=0.7\n",
        "                                            )\n",
        "                                        ],\n",
        "                                        'layout': {'title': 'Top words related the hashtag in tweets','hovermode': 'closest' }\n",
        "                                    }\n",
        "                                )\n",
        "                            ]\n",
        "                        ),\n",
        "                    ]\n",
        "                )\n",
        "            ]\n",
        "        )\n",
        "    ]\n",
        "\n",
        "    return children\n",
        "\n",
        "if __name__ == '__main__':\n",
        "    dash_app.run_server()"
      ],
      "metadata": {
        "colab": {
          "base_uri": "https://localhost:8080/",
          "height": 52
        },
        "id": "JF-W4lDqH6Aq",
        "outputId": "6f2de322-d5e7-43cb-d478-1e77095731c8"
      },
      "execution_count": 20,
      "outputs": [
        {
          "output_type": "stream",
          "name": "stdout",
          "text": [
            "Dash app running on:\n"
          ]
        },
        {
          "output_type": "display_data",
          "data": {
            "text/plain": [
              "<IPython.core.display.Javascript object>"
            ],
            "application/javascript": [
              "(async (port, path, text, element) => {\n",
              "    if (!google.colab.kernel.accessAllowed) {\n",
              "      return;\n",
              "    }\n",
              "    element.appendChild(document.createTextNode(''));\n",
              "    const url = await google.colab.kernel.proxyPort(port);\n",
              "    const anchor = document.createElement('a');\n",
              "    anchor.href = new URL(path, url).toString();\n",
              "    anchor.target = '_blank';\n",
              "    anchor.setAttribute('data-href', url + path);\n",
              "    anchor.textContent = text;\n",
              "    element.appendChild(anchor);\n",
              "  })(8050, \"/\", \"http://127.0.0.1:8050/\", window.element)"
            ]
          },
          "metadata": {}
        }
      ]
    },
    {
      "cell_type": "code",
      "source": [
        "# stop running the script in the background\n",
        "# p = subprocess.Popen('cmd', stdout=subprocess.PIPE, shell=True)\n",
        "# p.kill()"
      ],
      "metadata": {
        "id": "a_yu98T9rfDf"
      },
      "execution_count": 21,
      "outputs": []
    }
  ]
}