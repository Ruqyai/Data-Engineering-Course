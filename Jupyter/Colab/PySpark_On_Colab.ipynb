{
  "cells": [
    {
      "cell_type": "markdown",
      "metadata": {
        "id": "view-in-github",
        "colab_type": "text"
      },
      "source": [
        "<a href=\"https://colab.research.google.com/github/Ruqyai/Tuwaiq_Academy/blob/main/spark/Colab/PySpark_On_Colab.ipynb\" target=\"_parent\"><img src=\"https://colab.research.google.com/assets/colab-badge.svg\" alt=\"Open In Colab\"/></a>"
      ]
    },
    {
      "cell_type": "markdown",
      "source": [
        "# Use Spark Stream to get the top twitter hashtags related a keyword or a hashtag"
      ],
      "metadata": {
        "id": "bpfTKGfDrW9J"
      }
    },
    {
      "cell_type": "code",
      "source": [
        "!pip install pyspark &> /dev/null"
      ],
      "metadata": {
        "id": "VDnUIpwBLyrY"
      },
      "execution_count": 1,
      "outputs": []
    },
    {
      "cell_type": "code",
      "execution_count": 2,
      "metadata": {
        "jupyter": {
          "outputs_hidden": false
        },
        "id": "xVZDDxPYLOLz"
      },
      "outputs": [],
      "source": [
        "from pyspark import SparkContext # https://www.tutorialspoint.com/pyspark/pyspark_sparkcontext.htm\n",
        "from pyspark.streaming import StreamingContext\n",
        "from pyspark.sql import SQLContext\n",
        "from pyspark.sql.functions import desc\n",
        "from collections import namedtuple # https://www.geeksforgeeks.org/namedtuple-in-python/\n",
        "\n",
        "import time\n",
        "from IPython import display\n",
        "import matplotlib.pyplot as plt\n",
        "import seaborn as sns\n",
        "# Only works for Jupyter Notebooks!\n",
        "%matplotlib inline "
      ]
    },
    {
      "cell_type": "code",
      "execution_count": 3,
      "metadata": {
        "id": "U-ALsnzbLOL2"
      },
      "outputs": [],
      "source": [
        "# Can only run this once. \n",
        "# restart your kernel for any errors.\n",
        "sc = SparkContext()"
      ]
    },
    {
      "cell_type": "code",
      "execution_count": 4,
      "metadata": {
        "id": "NbpfWo_eLOL3",
        "outputId": "9f3bbaed-5e58-41ab-d198-bd7bee0636bb",
        "colab": {
          "base_uri": "https://localhost:8080/"
        }
      },
      "outputs": [
        {
          "output_type": "stream",
          "name": "stderr",
          "text": [
            "/usr/local/lib/python3.7/dist-packages/pyspark/sql/context.py:114: FutureWarning: Deprecated in 3.0.0. Use SparkSession.builder.getOrCreate() instead.\n",
            "  FutureWarning,\n"
          ]
        }
      ],
      "source": [
        "ssc = StreamingContext(sc, 10 )\n",
        "sqlContext = SQLContext(sc)\n",
        "socket_stream = ssc.socketTextStream(\"127.0.0.1\", 5553)\n",
        "lines = socket_stream.window( 20 )"
      ]
    },
    {
      "cell_type": "code",
      "execution_count": 5,
      "metadata": {
        "id": "GT4mMCoXLOL4"
      },
      "outputs": [],
      "source": [
        "fields = (\"tag\", \"count\" )\n",
        "Tweet = namedtuple( 'Tweet', fields )\n",
        "# Use Parenthesis for multiple lines or use \\.\n",
        "( lines.flatMap( lambda text: text.split( \" \" ) ) #Splits to a list # lambda is a function # (lambda arguments : expression)\n",
        "  .filter( lambda word: word.lower().startswith(\"#\") ) # Checks for hashtag calls\n",
        "  .map( lambda word: ( word.lower(), 1 ) ) # Lower cases the word\n",
        "  .reduceByKey( lambda a, b: a + b ) #  Count and remove duplicates. #https://spark.apache.org/docs/latest/api/python/reference/api/pyspark.RDD.reduceByKey.html\n",
        "  .map( lambda rec: Tweet( rec[0], rec[1] ) ) # Stores in a Tweet Object\n",
        "  .foreachRDD( lambda rdd: rdd.toDF().sort( desc(\"count\") ) # Sorts them in Descending order in a DataFrame.\n",
        "  .limit(10).registerTempTable(\"tweets\") ) ) #Registers this DataFrame as a temporary table using the given name)"
      ]
    },
    {
      "cell_type": "markdown",
      "metadata": {
        "id": "pz-3KibtLOL5"
      },
      "source": [
        "__________\n",
        "### Before start next ssc.start() you should run TweetListener.py in the terminal\n",
        "```\n",
        "python TweetListener.py\n",
        "```\n",
        "__________"
      ]
    },
    {
      "cell_type": "code",
      "source": [
        "!wget https://raw.githubusercontent.com/Ruqyai/Tuwaiq_Academy/main/spark/TweetsListener.py &> /dev/null"
      ],
      "metadata": {
        "id": "ULVxajWFPH6w"
      },
      "execution_count": 6,
      "outputs": []
    },
    {
      "cell_type": "code",
      "source": [
        "#run the script/API in the background\n",
        "import subprocess\n",
        "subprocess.Popen([\"python\", \"/content/TweetsListener.py\"]) "
      ],
      "metadata": {
        "colab": {
          "base_uri": "https://localhost:8080/"
        },
        "id": "tSfZ7lJCNr1N",
        "outputId": "39bab198-9b2a-4ee4-b0c0-3f29c73fe8fc"
      },
      "execution_count": 7,
      "outputs": [
        {
          "output_type": "execute_result",
          "data": {
            "text/plain": [
              "<subprocess.Popen at 0x7ff5ad84bc90>"
            ]
          },
          "metadata": {},
          "execution_count": 7
        }
      ]
    },
    {
      "cell_type": "code",
      "execution_count": 8,
      "metadata": {
        "jupyter": {
          "outputs_hidden": false
        },
        "id": "5DFvPzsJLOL6"
      },
      "outputs": [],
      "source": [
        "ssc.start()"
      ]
    },
    {
      "cell_type": "code",
      "execution_count": 10,
      "metadata": {
        "id": "8JSE6dRpLOL7",
        "outputId": "805efc7a-3e4e-4862-d77c-c483f8663f72",
        "colab": {
          "base_uri": "https://localhost:8080/",
          "height": 497
        }
      },
      "outputs": [
        {
          "output_type": "display_data",
          "data": {
            "text/plain": [
              "<Figure size 720x576 with 1 Axes>"
            ],
            "image/png": "[encoded data removed]"
          },
          "metadata": {
            "needs_background": "light"
          }
        }
      ],
      "source": [
        "count = 0\n",
        "while count < 10:\n",
        "    time.sleep( 3 )\n",
        "    top_10_tweets = sqlContext.sql( 'Select tag, count from tweets' )\n",
        "    top_10_df = top_10_tweets.toPandas()\n",
        "    display.clear_output(wait=True)\n",
        "    plt.figure( figsize = ( 10, 8 ) )\n",
        "    sns.barplot( x=\"count\", y=\"tag\", data=top_10_df)\n",
        "    plt.show()\n",
        "    count = count + 1"
      ]
    },
    {
      "cell_type": "code",
      "execution_count": 11,
      "metadata": {
        "id": "IdUkgkruLOL8"
      },
      "outputs": [],
      "source": [
        "ssc.stop()"
      ]
    },
    {
      "cell_type": "markdown",
      "source": [
        "# Assignment #2\n",
        "\n",
        "Do any enhancement in the code or change anything "
      ],
      "metadata": {
        "id": "oyN59G-SsSou"
      }
    },
    {
      "cell_type": "code",
      "source": [],
      "metadata": {
        "id": "0sxgAOift3JR"
      },
      "execution_count": null,
      "outputs": []
    }
  ],
  "metadata": {
    "anaconda-cloud": {},
    "kernelspec": {
      "display_name": "Python 3 (ipykernel)",
      "language": "python",
      "name": "python3"
    },
    "language_info": {
      "codemirror_mode": {
        "name": "ipython",
        "version": 3
      },
      "file_extension": ".py",
      "mimetype": "text/x-python",
      "name": "python",
      "nbconvert_exporter": "python",
      "pygments_lexer": "ipython3",
      "version": "3.10.2"
    },
    "vscode": {
      "interpreter": {
        "hash": "369f2c481f4da34e4445cda3fffd2e751bd1c4d706f27375911949ba6bb62e1c"
      }
    },
    "colab": {
      "provenance": [],
      "include_colab_link": true
    }
  },
  "nbformat": 4,
  "nbformat_minor": 0
}